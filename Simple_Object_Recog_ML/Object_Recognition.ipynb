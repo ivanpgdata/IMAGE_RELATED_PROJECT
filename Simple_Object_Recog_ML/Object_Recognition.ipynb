{
 "cells": [
  {
   "cell_type": "markdown",
   "id": "f0444438-2f71-4cc5-bc1b-149285c6f033",
   "metadata": {},
   "source": [
    "# Import libraries"
   ]
  },
  {
   "cell_type": "code",
   "execution_count": 1,
   "id": "3629965b-5f12-40c1-9b9a-10685f32a71f",
   "metadata": {},
   "outputs": [],
   "source": [
    "# Import Libraries\n",
    "import cv2\n",
    "import numpy as np\n",
    "import torch"
   ]
  },
  {
   "cell_type": "code",
   "execution_count": 2,
   "id": "143e88a9-fa21-4afa-bc3e-7658cb18405b",
   "metadata": {},
   "outputs": [
    {
     "name": "stderr",
     "output_type": "stream",
     "text": [
      "Using cache found in C:\\Users\\ivanp/.cache\\torch\\hub\\ultralytics_yolov5_master\n",
      "YOLOv5  2024-5-24 Python-3.9.18 torch-2.2.2 CPU\n",
      "\n",
      "Fusing layers... \n",
      "YOLOv5l summary: 367 layers, 46533693 parameters, 0 gradients, 109.0 GFLOPs\n",
      "Adding AutoShape... \n"
     ]
    }
   ],
   "source": [
    "#Set the model\n",
    "model = torch.hub.load(\"ultralytics/yolov5\",\n",
    "                       \"yolov5l\", #we download yolov5 small as a first try, we will progressively enlarge in case we can have more accuracy until the device starts having difficulties processing\n",
    "                       pretrained = True)"
   ]
  },
  {
   "cell_type": "code",
   "execution_count": 75,
   "id": "c622c82c-74a7-4277-a0f2-d50fed854381",
   "metadata": {},
   "outputs": [],
   "source": [
    "#Create a function with the image path as a parameter and the return will be the image with the objects recognized. \n",
    "\n",
    "def detector(image_path):\n",
    "    # Load image\n",
    "    frame = cv2.imread(image_path)\n",
    "\n",
    "    # In case we want to resize image to specified resolution:\n",
    "    #frame = cv2.resize(frame, resolution)\n",
    "    # we could also have to add to the parameters of the function resolution = (800x600)\n",
    "\n",
    "    # This is where the inference happens\n",
    "    pred = model(frame)\n",
    "    df = pred.pandas().xyxy[0] \n",
    "    df = df[df[\"confidence\"] > 0.5]\n",
    "\n",
    "    for i in range(df.shape[0]):\n",
    "        bbox = df.iloc[i][[\"xmin\",\n",
    "                           \"ymin\",\n",
    "                           \"xmax\",\n",
    "                           \"ymax\"]].values.astype(int)\n",
    "\n",
    "        cv2.rectangle(frame,\n",
    "                      (bbox[0], bbox[1]), (bbox[2], bbox[3]),\n",
    "                      (255, 0, 255),\n",
    "                      2)\n",
    "\n",
    "        # Show text on bounding boxes\n",
    "        cv2.putText(frame,\n",
    "                    f\"{df.iloc[i]['name']}:{round(df.iloc[i]['confidence'], 4)}\",\n",
    "                    (bbox[0], bbox[1] - 25), \n",
    "                    cv2.FONT_HERSHEY_COMPLEX_SMALL,\n",
    "                    0.75, \n",
    "                    (255,0,0), \n",
    "                    1) \n",
    "\n",
    "    cv2.imshow(\"frame\", frame)\n",
    "    cv2.waitKey(0)\n",
    "    cv2.destroyAllWindows()"
   ]
  },
  {
   "cell_type": "code",
   "execution_count": 77,
   "id": "3e961f09-b2da-4911-a6f8-08bff7cfa952",
   "metadata": {},
   "outputs": [],
   "source": [
    "detector(\"images/image2.jpg\")"
   ]
  },
  {
   "cell_type": "code",
   "execution_count": null,
   "id": "3647b167-4000-4db3-8302-306ed1d297a9",
   "metadata": {},
   "outputs": [],
   "source": []
  },
  {
   "cell_type": "code",
   "execution_count": null,
   "id": "96aec713-227d-4f5f-b61f-62ea2b4167a9",
   "metadata": {},
   "outputs": [],
   "source": []
  },
  {
   "cell_type": "code",
   "execution_count": null,
   "id": "103eee45-15e1-44ad-a4a5-ed583818e9a2",
   "metadata": {},
   "outputs": [],
   "source": []
  },
  {
   "cell_type": "code",
   "execution_count": null,
   "id": "6e99d174-324a-43c0-af47-4d04e187d109",
   "metadata": {},
   "outputs": [],
   "source": []
  }
 ],
 "metadata": {
  "kernelspec": {
   "display_name": "Python 3 (ipykernel)",
   "language": "python",
   "name": "python3"
  },
  "language_info": {
   "codemirror_mode": {
    "name": "ipython",
    "version": 3
   },
   "file_extension": ".py",
   "mimetype": "text/x-python",
   "name": "python",
   "nbconvert_exporter": "python",
   "pygments_lexer": "ipython3",
   "version": "3.9.18"
  }
 },
 "nbformat": 4,
 "nbformat_minor": 5
}
